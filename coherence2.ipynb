{
 "cells": [
  {
   "cell_type": "code",
   "execution_count": 7,
   "metadata": {
    "collapsed": false
   },
   "outputs": [
    {
     "name": "stdout",
     "output_type": "stream",
     "text": [
      "Populating the interactive namespace from numpy and matplotlib\n"
     ]
    },
    {
     "name": "stderr",
     "output_type": "stream",
     "text": [
      "/scisoft/users/paleo/virtualenvs/cuttingedge/local/lib/python2.7/site-packages/IPython/core/magics/pylab.py:161: UserWarning: pylab import has clobbered these variables: ['pi', 'sqrt', 'gradient']\n",
      "`%matplotlib` prevents importing * from pylab and numpy\n",
      "  \"\\n`%matplotlib` prevents importing * from pylab and numpy\"\n"
     ]
    }
   ],
   "source": [
    "%pylab nbagg\n",
    "from operatorsmatrix import *\n",
    "from projections import build_projection_operator\n",
    "import numpy as np\n",
    "from utils import ims\n",
    "import scipy.sparse\n",
    "import scipy.sparse.linalg"
   ]
  },
  {
   "cell_type": "code",
   "execution_count": null,
   "metadata": {
    "collapsed": true
   },
   "outputs": [],
   "source": []
  },
  {
   "cell_type": "code",
   "execution_count": null,
   "metadata": {
    "collapsed": true
   },
   "outputs": [],
   "source": []
  },
  {
   "cell_type": "code",
   "execution_count": 3,
   "metadata": {
    "collapsed": true
   },
   "outputs": [],
   "source": [
    "def coherence_identity(A):\n",
    "    # needs a recent version of scipy to use sparse.linalg.norm()\n",
    "    # eg. for 256x256 images, angles from -70 to 70 with step 5 = 29 angles\n",
    "    # A = build_projection_operator(256, 29)\n",
    "    # should give a coherence of 30.3 (max is 256), compatible with Guay Et Al\n",
    "    norm_A = scipy.sparse.linalg.norm(A, axis=1)\n",
    "    A = (A.T / norm_A).T\n",
    "    coherence = A.max() * sqrt(A.shape[1]) \n",
    "    return coherence\n"
   ]
  },
  {
   "cell_type": "code",
   "execution_count": 17,
   "metadata": {
    "collapsed": true
   },
   "outputs": [],
   "source": [
    "def coherence_normalized(A, B):\n",
    "    N = A.shape[1]\n",
    "    A2 = np.linalg.norm(A, axis=1)\n",
    "    B2 = np.linalg.norm(B, axis=1)\n",
    "    # In case where a line of A or B is zero (happens only for gradient)\n",
    "    A2[A2 == 0] = 1\n",
    "    B2[B2 == 0] = 1\n",
    "    return np.max(np.abs(A.dot(B.T)/np.outer(A2,B2)))*sqrt(N)   # normalize by the product of the norms of the basis functions\n",
    "\n",
    "\n",
    "def coherence_normalized_sparse(A, B):\n",
    "    # works for sparse (csr) matrices A, B\n",
    "    N = A.shape[1]\n",
    "    norm_A = scipy.sparse.linalg.norm(A, axis=1) # np.ndarray\n",
    "    norm_B = scipy.sparse.linalg.norm(B, axis=1) # np.ndarray\n",
    "    # In case where a line of A or B is zero (happens only for gradient)\n",
    "    norm_A[norm_A == 0] = 1\n",
    "    norm_B[norm_B == 0] = 1\n",
    "    dotprods = A.dot(B.T) # sparse.csr_matrix\n",
    "    # normalize\n",
    "    for i in range(A.shape[0]):\n",
    "        dotprods[i, :] /= norm_A[i]\n",
    "    for j in range(N):\n",
    "        dotprods[:, i] /= norm_B[j]\n",
    "    # take abs val\n",
    "    dotprods = dotprods.maximum(0) # TODO: true abs val !\n",
    "    # return max * sqrt(N)\n",
    "    return dotprods.max()*sqrt(N)\n",
    "\n",
    "\n",
    "def coherence_onthefly(A, B):\n",
    "    \n",
    "\n",
    "\n"
   ]
  },
  {
   "cell_type": "code",
   "execution_count": 27,
   "metadata": {
    "collapsed": true
   },
   "outputs": [],
   "source": [
    "nbins = 128\n",
    "Npj = [32, 64, 80]\n"
   ]
  },
  {
   "cell_type": "code",
   "execution_count": 28,
   "metadata": {
    "collapsed": false
   },
   "outputs": [
    {
     "name": "stdout",
     "output_type": "stream",
     "text": [
      "(128, 32)\n",
      "(128, 64)\n",
      "(128, 80)\n"
     ]
    }
   ],
   "source": [
    "coh_identity = []\n",
    "coh_haar = []\n",
    "coh_coif = []\n",
    "coh_db2 = []\n",
    "coh_grad = []\n",
    "for npj in Npj:\n",
    "    print(\"(%d, %d)\" % (nbins, npj))\n",
    "    A = build_projection_operator(nbins, n_dir=npj)\n",
    "    coh_identity.append(coherence_identity(A))\n",
    "    #\n",
    "    P = np.array(A.todense())\n",
    "    #\n",
    "    W = build_wavelet_matrix_2d(nbins, wname=\"haar\")\n",
    "    coh_haar.append(coherence_normalized(P, W))\n",
    "    #\n",
    "    W = build_wavelet_matrix_2d(nbins, wname=\"coif1\")\n",
    "    coh_coif.append(coherence_normalized(P, W))\n",
    "    #\n",
    "    W = build_wavelet_matrix_2d(nbins, wname=\"db4\")\n",
    "    coh_db2.append(coherence_normalized(P, W))\n",
    "    #\n",
    "    G = build_gradient_matrix_2d(nbins, merged=True)\n",
    "    coh_grad.append(coherence_normalized(P, G))\n",
    "    \n",
    "    \n",
    "\n",
    "        "
   ]
  },
  {
   "cell_type": "code",
   "execution_count": null,
   "metadata": {
    "collapsed": false
   },
   "outputs": [],
   "source": []
  },
  {
   "cell_type": "code",
   "execution_count": 29,
   "metadata": {
    "collapsed": false
   },
   "outputs": [
    {
     "name": "stdout",
     "output_type": "stream",
     "text": [
      "[21.265262603759766, 21.266286849975586, 21.286754608154297]\n",
      "[25.372442287367768, 25.372442287367768, 25.562762669794441]\n",
      "[33.066762696856777, 34.197069428787131, 34.379565565484228]\n",
      "[29.452493896385743, 29.594822989789737, 30.218495056675732]\n",
      "[13.844735186817632, 13.844735186817632, 13.878481114042406]\n"
     ]
    }
   ],
   "source": [
    "print coh_identity\n",
    "print coh_haar\n",
    "print coh_coif\n",
    "print coh_db2 \n",
    "print coh_grad "
   ]
  },
  {
   "cell_type": "markdown",
   "metadata": {},
   "source": [
    "The coherence does not depend on the number of projections."
   ]
  },
  {
   "cell_type": "code",
   "execution_count": 45,
   "metadata": {
    "collapsed": true
   },
   "outputs": [],
   "source": [
    "Nbins = [32, 64, 128, 256]\n",
    "Nproj = [32, 64, 80, 80] # corresponding nproj"
   ]
  },
  {
   "cell_type": "code",
   "execution_count": 46,
   "metadata": {
    "collapsed": false
   },
   "outputs": [
    {
     "name": "stdout",
     "output_type": "stream",
     "text": [
      "(32, 32)\n"
     ]
    },
    {
     "name": "stderr",
     "output_type": "stream",
     "text": [
      "Exception KeyboardInterrupt in 'zmq.backend.cython.message.Frame.__dealloc__' ignored\n"
     ]
    },
    {
     "ename": "ValueError",
     "evalue": "shapes (4096,4096) and (1024,2048) not aligned: 4096 (dim 1) != 1024 (dim 0)",
     "output_type": "error",
     "traceback": [
      "\u001b[0;31m---------------------------------------------------------------------------\u001b[0m",
      "\u001b[0;31mValueError\u001b[0m                                Traceback (most recent call last)",
      "\u001b[0;32m<ipython-input-46-172b3bf2f76e>\u001b[0m in \u001b[0;36m<module>\u001b[0;34m()\u001b[0m\n\u001b[1;32m     24\u001b[0m     \"\"\"\n\u001b[1;32m     25\u001b[0m     \u001b[0mG\u001b[0m \u001b[0;34m=\u001b[0m \u001b[0mbuild_gradient_matrix_2d\u001b[0m\u001b[0;34m(\u001b[0m\u001b[0mnbins\u001b[0m\u001b[0;34m,\u001b[0m \u001b[0mmerged\u001b[0m\u001b[0;34m=\u001b[0m\u001b[0mTrue\u001b[0m\u001b[0;34m)\u001b[0m\u001b[0;34m\u001b[0m\u001b[0m\n\u001b[0;32m---> 26\u001b[0;31m     \u001b[0mcoh_grad\u001b[0m\u001b[0;34m.\u001b[0m\u001b[0mappend\u001b[0m\u001b[0;34m(\u001b[0m\u001b[0mcoherence_normalized\u001b[0m\u001b[0;34m(\u001b[0m\u001b[0mP\u001b[0m\u001b[0;34m,\u001b[0m \u001b[0mG\u001b[0m\u001b[0;34m)\u001b[0m\u001b[0;34m)\u001b[0m\u001b[0;34m\u001b[0m\u001b[0m\n\u001b[0m\u001b[1;32m     27\u001b[0m \u001b[0;34m\u001b[0m\u001b[0m\n\u001b[1;32m     28\u001b[0m \u001b[0;34m\u001b[0m\u001b[0m\n",
      "\u001b[0;32m<ipython-input-17-5be076ab0ee3>\u001b[0m in \u001b[0;36mcoherence_normalized\u001b[0;34m(A, B)\u001b[0m\n\u001b[1;32m      6\u001b[0m     \u001b[0mA2\u001b[0m\u001b[0;34m[\u001b[0m\u001b[0mA2\u001b[0m \u001b[0;34m==\u001b[0m \u001b[0;36m0\u001b[0m\u001b[0;34m]\u001b[0m \u001b[0;34m=\u001b[0m \u001b[0;36m1\u001b[0m\u001b[0;34m\u001b[0m\u001b[0m\n\u001b[1;32m      7\u001b[0m     \u001b[0mB2\u001b[0m\u001b[0;34m[\u001b[0m\u001b[0mB2\u001b[0m \u001b[0;34m==\u001b[0m \u001b[0;36m0\u001b[0m\u001b[0;34m]\u001b[0m \u001b[0;34m=\u001b[0m \u001b[0;36m1\u001b[0m\u001b[0;34m\u001b[0m\u001b[0m\n\u001b[0;32m----> 8\u001b[0;31m     \u001b[0;32mreturn\u001b[0m \u001b[0mnp\u001b[0m\u001b[0;34m.\u001b[0m\u001b[0mmax\u001b[0m\u001b[0;34m(\u001b[0m\u001b[0mnp\u001b[0m\u001b[0;34m.\u001b[0m\u001b[0mabs\u001b[0m\u001b[0;34m(\u001b[0m\u001b[0mA\u001b[0m\u001b[0;34m.\u001b[0m\u001b[0mdot\u001b[0m\u001b[0;34m(\u001b[0m\u001b[0mB\u001b[0m\u001b[0;34m.\u001b[0m\u001b[0mT\u001b[0m\u001b[0;34m)\u001b[0m\u001b[0;34m/\u001b[0m\u001b[0mnp\u001b[0m\u001b[0;34m.\u001b[0m\u001b[0mouter\u001b[0m\u001b[0;34m(\u001b[0m\u001b[0mA2\u001b[0m\u001b[0;34m,\u001b[0m\u001b[0mB2\u001b[0m\u001b[0;34m)\u001b[0m\u001b[0;34m)\u001b[0m\u001b[0;34m)\u001b[0m\u001b[0;34m*\u001b[0m\u001b[0msqrt\u001b[0m\u001b[0;34m(\u001b[0m\u001b[0mN\u001b[0m\u001b[0;34m)\u001b[0m   \u001b[0;31m# normalize by the product of the norms of the basis functions\u001b[0m\u001b[0;34m\u001b[0m\u001b[0m\n\u001b[0m\u001b[1;32m      9\u001b[0m \u001b[0;34m\u001b[0m\u001b[0m\n\u001b[1;32m     10\u001b[0m \u001b[0;34m\u001b[0m\u001b[0m\n",
      "\u001b[0;31mValueError\u001b[0m: shapes (4096,4096) and (1024,2048) not aligned: 4096 (dim 1) != 1024 (dim 0)"
     ]
    }
   ],
   "source": [
    "coh_identity = []\n",
    "coh_haar = []\n",
    "coh_coif = []\n",
    "coh_db2 = []\n",
    "coh_grad = []\n",
    "for nbins, npj in zip(Nbins, Nproj):\n",
    "    print(\"(%d, %d)\" % (nbins, npj))\n",
    "    #\n",
    "    \"\"\"\n",
    "    A = build_projection_operator(nbins, n_dir=npj)\n",
    "    coh_identity.append(coherence_identity(A))\n",
    "    #\n",
    "    P = np.array(A.todense())\n",
    "    #\n",
    "    W = build_wavelet_matrix_2d(nbins, wname=\"haar\")\n",
    "    coh_haar.append(coherence_normalized(P, W))\n",
    "    #\n",
    "    W = build_wavelet_matrix_2d(nbins, wname=\"coif1\")\n",
    "    coh_coif.append(coherence_normalized(P, W))\n",
    "    #\n",
    "    W = build_wavelet_matrix_2d(nbins, wname=\"db2\")\n",
    "    coh_db2.append(coherence_normalized(P, W))\n",
    "    #\n",
    "    \"\"\"\n",
    "    G = build_gradient_matrix_2d(nbins, merged=True)\n",
    "    coh_grad.append(coherence_normalized(P, G))\n",
    "    \n",
    "    \n",
    "print coh_grad "
   ]
  },
  {
   "cell_type": "code",
   "execution_count": 22,
   "metadata": {
    "collapsed": false
   },
   "outputs": [
    {
     "name": "stdout",
     "output_type": "stream",
     "text": [
      "[10.124059677124023, 14.84012508392334, 21.286754608154297, 30.255407333374023]\n",
      "[10.939597852847299, 16.12101026296412, 25.562762669794441, 39.299696080414222]\n",
      "[13.549781087961017, 22.015971327323005, 34.379565565484228, 50.343450115412324]\n",
      "[12.557505732598489, 20.374810066087932, 30.218495056675732, 44.682133693914068]\n",
      "[6.5682807507974852, 9.6245014934864805, 13.878481114042406]\n"
     ]
    }
   ],
   "source": [
    "print coh_identity\n",
    "print coh_haar\n",
    "print coh_coif\n",
    "print coh_db2 \n",
    "print coh_grad "
   ]
  },
  {
   "cell_type": "code",
   "execution_count": null,
   "metadata": {
    "collapsed": true
   },
   "outputs": [],
   "source": []
  },
  {
   "cell_type": "code",
   "execution_count": null,
   "metadata": {
    "collapsed": true
   },
   "outputs": [],
   "source": []
  },
  {
   "cell_type": "code",
   "execution_count": null,
   "metadata": {
    "collapsed": true
   },
   "outputs": [],
   "source": []
  },
  {
   "cell_type": "code",
   "execution_count": null,
   "metadata": {
    "collapsed": true
   },
   "outputs": [],
   "source": []
  }
 ],
 "metadata": {
  "kernelspec": {
   "display_name": "Python 2",
   "language": "python",
   "name": "python2"
  },
  "language_info": {
   "codemirror_mode": {
    "name": "ipython",
    "version": 2
   },
   "file_extension": ".py",
   "mimetype": "text/x-python",
   "name": "python",
   "nbconvert_exporter": "python",
   "pygments_lexer": "ipython2",
   "version": "2.7.9"
  }
 },
 "nbformat": 4,
 "nbformat_minor": 2
}
